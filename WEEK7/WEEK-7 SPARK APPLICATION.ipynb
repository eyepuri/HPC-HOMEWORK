{
 "cells": [
  {
   "cell_type": "code",
   "execution_count": 0,
   "metadata": {
    "application/vnd.databricks.v1+cell": {
     "cellMetadata": {
      "byteLimit": 2048000,
      "rowLimit": 10000
     },
     "inputWidgets": {},
     "nuid": "f011a824-e18a-499f-8699-5d079d734808",
     "showTitle": false,
     "tableResultSettingsMap": {},
     "title": ""
    }
   },
   "outputs": [
    {
     "output_type": "stream",
     "name": "stderr",
     "output_type": "stream",
     "text": [
      "  % Total    % Received % Xferd  Average Speed   Time    Time     Time  Current\n                                 Dload  Upload   Total   Spent    Left  Speed\n\r  0     0    0     0    0     0      0      0 --:--:-- --:--:-- --:--:--     0\r  0  752M    0  543k    0     0  1494k      0  0:08:35 --:--:--  0:08:35 1490k\r 21  752M   21  160M    0     0   119M      0  0:00:06  0:00:01  0:00:05  119M\r 39  752M   39  294M    0     0   122M      0  0:00:06  0:00:02  0:00:04  122M\r 55  752M   55  415M    0     0   124M      0  0:00:06  0:00:03  0:00:03  123M\r 63  752M   63  476M    0     0   109M      0  0:00:06  0:00:04  0:00:02  109M\r 70  752M   70  529M    0     0  98.8M      0  0:00:07  0:00:05  0:00:02  105M\r 76  752M   76  579M    0     0  91.1M      0  0:00:08  0:00:06  0:00:02 83.6M\r 83  752M   83  626M    0     0  85.1M      0  0:00:08  0:00:07  0:00:01 66.9M\r 89  752M   89  673M    0     0  80.6M      0  0:00:09  0:00:08  0:00:01 51.5M\r 95  752M   95  721M    0     0  77.0M      0  0:00:09  0:00:09 --:--:-- 48.9M\r100  752M  100  752M    0     0  75.2M      0  0:00:10  0:00:10 --:--:-- 47.9M\n"
     ]
    },
    {
     "output_type": "stream",
     "name": "stdout",
     "output_type": "stream",
     "text": [
      "Archive:  /tmp/openpayments_2023.zip\n  inflating: /tmp/openpayments_2023/OP_PGYR2023_README_P01302025.txt  \n  inflating: /tmp/openpayments_2023/OP_DTL_OWNRSHP_PGYR2023_P01302025_01212025.csv  \n  inflating: /tmp/openpayments_2023/OP_DTL_GNRL_PGYR2023_P01302025_01212025.csv  \n  inflating: /tmp/openpayments_2023/OP_DTL_RSRCH_PGYR2023_P01302025_01212025.csv  \n  inflating: /tmp/openpayments_2023/OP_REMOVED_DELETED_PGYR2023_P01302025_01212025.csv  \n"
     ]
    }
   ],
   "source": [
    "%%sh\n",
    "# Download the CMS Open Payments ZIP file\n",
    "curl -L https://download.cms.gov/openpayments/PGYR2023_P01302025_01212025.zip -o /tmp/openpayments_2023.zip\n",
    "\n",
    "# Unzip the file to a directory, force overwriting existing files without prompting\n",
    "unzip -o /tmp/openpayments_2023.zip -d /tmp/openpayments_2023\n"
   ]
  },
  {
   "cell_type": "code",
   "execution_count": 0,
   "metadata": {
    "application/vnd.databricks.v1+cell": {
     "cellMetadata": {
      "byteLimit": 2048000,
      "rowLimit": 10000
     },
     "inputWidgets": {},
     "nuid": "2fba3925-5e34-4e4f-91c0-80142a91d0db",
     "showTitle": false,
     "tableResultSettingsMap": {},
     "title": ""
    }
   },
   "outputs": [
    {
     "output_type": "stream",
     "name": "stdout",
     "output_type": "stream",
     "text": [
      "Out[46]: ['OP_DTL_GNRL_PGYR2023_P01302025_01212025.csv',\n 'OP_DTL_RSRCH_PGYR2023_P01302025_01212025.csv',\n 'OP_DTL_OWNRSHP_PGYR2023_P01302025_01212025.csv',\n 'OP_PGYR2023_README_P01302025.txt',\n 'OP_REMOVED_DELETED_PGYR2023_P01302025_01212025.csv']"
     ]
    }
   ],
   "source": [
    "import os\n",
    "\n",
    "# List the extracted files\n",
    "os.listdir(\"/tmp/openpayments_2023\")"
   ]
  },
  {
   "cell_type": "code",
   "execution_count": 0,
   "metadata": {
    "application/vnd.databricks.v1+cell": {
     "cellMetadata": {
      "byteLimit": 2048000,
      "rowLimit": 10000
     },
     "inputWidgets": {},
     "nuid": "175d6988-b4a5-4e64-aa92-6e3c4b21ad8f",
     "showTitle": false,
     "tableResultSettingsMap": {},
     "title": ""
    }
   },
   "outputs": [],
   "source": [
    "# Reading the CSV file into a Spark DataFrame\n",
    "df = spark.read.csv(\"file:/tmp/openpayments_2023/OP_DTL_GNRL_PGYR2023_P01302025_01212025.csv\", header=True, inferSchema=True)\n",
    "\n",
    "# Saving it as a Delta table\n",
    "df.write \\\n",
    "    .format(\"delta\") \\\n",
    "    .mode(\"overwrite\") \\\n",
    "    .saveAsTable(\"General_OpenPayments\")"
   ]
  },
  {
   "cell_type": "code",
   "execution_count": 0,
   "metadata": {
    "application/vnd.databricks.v1+cell": {
     "cellMetadata": {
      "byteLimit": 2048000,
      "rowLimit": 10000
     },
     "inputWidgets": {},
     "nuid": "469ad489-6187-460b-a325-d6dc1873eb01",
     "showTitle": false,
     "tableResultSettingsMap": {},
     "title": ""
    }
   },
   "outputs": [],
   "source": [
    "# Reading the CSV file into a Spark DataFrame\n",
    "df = spark.read.csv(\"dbfs:/FileStore/shared_uploads/esha.yepuri@slu.edu/OP_CVRD_RCPNT_PRFL_SPLMTL_P01302025_01212025.csv\", header=True, inferSchema=True)\n",
    "\n",
    "# Saving it as a Delta table (use underscores instead of spaces)\n",
    "df.write \\\n",
    "    .format(\"delta\") \\\n",
    "    .mode(\"overwrite\") \\\n",
    "    .saveAsTable(\"covered_recipients\")\n"
   ]
  },
  {
   "cell_type": "code",
   "execution_count": 0,
   "metadata": {
    "application/vnd.databricks.v1+cell": {
     "cellMetadata": {
      "byteLimit": 2048000,
      "rowLimit": 10000
     },
     "inputWidgets": {},
     "nuid": "999ca887-d252-4cec-9f59-728a512553ed",
     "showTitle": false,
     "tableResultSettingsMap": {},
     "title": ""
    }
   },
   "outputs": [
    {
     "output_type": "stream",
     "name": "stdout",
     "output_type": "stream",
     "text": [
      "+--------------------------------------------------------------------------------------------------------------------------------------------------+------+\n|Nature_of_Payment_or_Transfer_of_Value                                                                                                            |count |\n+--------------------------------------------------------------------------------------------------------------------------------------------------+------+\n|Compensation for services other than consulting, including serving as faculty or as a speaker at a venue other than a continuing education program|164092|\n|Consulting Fee                                                                                                                                    |105228|\n|Travel and Lodging                                                                                                                                |24738 |\n|Honoraria                                                                                                                                         |13750 |\n|Education                                                                                                                                         |13376 |\n|Royalty or License                                                                                                                                |11534 |\n|Compensation for serving as faculty or as a speaker for a medical education program                                                               |8658  |\n|Grant                                                                                                                                             |4922  |\n|Space rental or facility fees (teaching hospital only)                                                                                            |4917  |\n|Long term medical supply or device loan                                                                                                           |2930  |\n+--------------------------------------------------------------------------------------------------------------------------------------------------+------+\nonly showing top 10 rows\n\n"
     ]
    }
   ],
   "source": [
    "from pyspark.sql.functions import col, sum, count, desc\n",
    "\n",
    "# 1. Nature of Payments with reimbursement amounts greater than $1,000, ordered by count\n",
    "df_payments = spark.table(\"General_OpenPayments\")\n",
    "\n",
    "df_payments.filter(col(\"Total_Amount_of_Payment_USDollars\") > 1000) \\\n",
    "    .groupBy(\"Nature_of_Payment_or_Transfer_of_Value\") \\\n",
    "    .agg(count(\"*\").alias(\"count\")) \\\n",
    "    .orderBy(desc(\"count\")) \\\n",
    "    .show(10, truncate=False)"
   ]
  },
  {
   "cell_type": "code",
   "execution_count": 0,
   "metadata": {
    "application/vnd.databricks.v1+cell": {
     "cellMetadata": {
      "byteLimit": 2048000,
      "rowLimit": 10000
     },
     "inputWidgets": {},
     "nuid": "83721a7d-7041-47be-a1e4-e8c402a7d965",
     "showTitle": false,
     "tableResultSettingsMap": {},
     "title": ""
    }
   },
   "outputs": [
    {
     "output_type": "stream",
     "name": "stdout",
     "output_type": "stream",
     "text": [
      "+--------------------------------------------------------------------------------------------------------------------------------------------------+--------+\n|Nature_of_Payment_or_Transfer_of_Value                                                                                                            |count   |\n+--------------------------------------------------------------------------------------------------------------------------------------------------+--------+\n|Food and Beverage                                                                                                                                 |13378464|\n|Travel and Lodging                                                                                                                                |545086  |\n|Compensation for services other than consulting, including serving as faculty or as a speaker at a venue other than a continuing education program|236628  |\n|Consulting Fee                                                                                                                                    |170630  |\n|Education                                                                                                                                         |161078  |\n|Gift                                                                                                                                              |31786   |\n|Honoraria                                                                                                                                         |20232   |\n|Royalty or License                                                                                                                                |15865   |\n|Compensation for serving as faculty or as a speaker for a medical education program                                                               |12234   |\n|Entertainment                                                                                                                                     |7967    |\n+--------------------------------------------------------------------------------------------------------------------------------------------------+--------+\nonly showing top 10 rows\n\n"
     ]
    }
   ],
   "source": [
    " #2. Top ten Nature of Payments by count\n",
    "df_payments.groupBy(\"Nature_of_Payment_or_Transfer_of_Value\") \\\n",
    "    .agg(count(\"*\").alias(\"count\")) \\\n",
    "    .orderBy(desc(\"count\")) \\\n",
    "    .show(10, truncate=False)"
   ]
  },
  {
   "cell_type": "code",
   "execution_count": 0,
   "metadata": {
    "application/vnd.databricks.v1+cell": {
     "cellMetadata": {
      "byteLimit": 2048000,
      "rowLimit": 10000
     },
     "inputWidgets": {},
     "nuid": "2273ab1e-9b3d-4535-8f87-a3f161031d36",
     "showTitle": false,
     "tableResultSettingsMap": {},
     "title": ""
    }
   },
   "outputs": [
    {
     "output_type": "stream",
     "name": "stdout",
     "output_type": "stream",
     "text": [
      "+--------------------------------------------------------------------------------------------------------------------------------------------------+--------------------+\n|Nature_of_Payment_or_Transfer_of_Value                                                                                                            |total_amount        |\n+--------------------------------------------------------------------------------------------------------------------------------------------------+--------------------+\n|Royalty or License                                                                                                                                |1.1921745630200038E9|\n|Compensation for services other than consulting, including serving as faculty or as a speaker at a venue other than a continuing education program|5.946326876500018E8 |\n|Consulting Fee                                                                                                                                    |5.148558758999997E8 |\n|Food and Beverage                                                                                                                                 |3.744878240099856E8 |\n|Travel and Lodging                                                                                                                                |1.7954842377999967E8|\n|Grant                                                                                                                                             |1.1188856182E8      |\n|Acquisitions                                                                                                                                      |7.192577675999999E7 |\n|Education                                                                                                                                         |6.469532594000477E7 |\n|Honoraria                                                                                                                                         |5.585182388999998E7 |\n|Long term medical supply or device loan                                                                                                           |3.0098791950000003E7|\n+--------------------------------------------------------------------------------------------------------------------------------------------------+--------------------+\nonly showing top 10 rows\n\n"
     ]
    }
   ],
   "source": [
    "3. #Top ten Nature of Payments by total amount\n",
    "df_payments.groupBy(\"Nature_of_Payment_or_Transfer_of_Value\") \\\n",
    "    .agg(sum(\"Total_Amount_of_Payment_USDollars\").alias(\"total_amount\")) \\\n",
    "    .orderBy(desc(\"total_amount\")) \\\n",
    "    .show(10, truncate=False)"
   ]
  },
  {
   "cell_type": "code",
   "execution_count": 0,
   "metadata": {
    "application/vnd.databricks.v1+cell": {
     "cellMetadata": {
      "byteLimit": 2048000,
      "implicitDf": true,
      "rowLimit": 10000
     },
     "inputWidgets": {},
     "nuid": "9aef8682-65d4-428c-90ea-e024924df557",
     "showTitle": false,
     "tableResultSettingsMap": {},
     "title": ""
    }
   },
   "outputs": [
    {
     "output_type": "display_data",
     "data": {
      "text/html": [
       "<style scoped>\n",
       "  .table-result-container {\n",
       "    max-height: 300px;\n",
       "    overflow: auto;\n",
       "  }\n",
       "  table, th, td {\n",
       "    border: 1px solid black;\n",
       "    border-collapse: collapse;\n",
       "  }\n",
       "  th, td {\n",
       "    padding: 5px;\n",
       "  }\n",
       "  th {\n",
       "    text-align: left;\n",
       "  }\n",
       "</style><div class='table-result-container'><table class='table-result'><thead style='background-color: white'><tr><th>Covered_Recipient_Profile_Primary_Specialty</th><th>total_amount</th></tr></thead><tbody><tr><td>Allopathic & Osteopathic Physicians|Orthopaedic Surgery</td><td>3.7775549672999597E8</td></tr><tr><td>Allopathic & Osteopathic Physicians|Psychiatry & Neurology|Neurology</td><td>8.680715037000045E7</td></tr><tr><td>Allopathic & Osteopathic Physicians|Neurological Surgery</td><td>8.587046903000015E7</td></tr><tr><td>Allopathic & Osteopathic Physicians|Dermatology</td><td>8.07658914400014E7</td></tr><tr><td>Allopathic & Osteopathic Physicians|Orthopaedic Surgery|Adult Reconstructive Orthopaedic Surgery</td><td>7.277526618000011E7</td></tr><tr><td>Allopathic & Osteopathic Physicians|Internal Medicine|Hematology & Oncology</td><td>6.576093498000091E7</td></tr><tr><td>Allopathic & Osteopathic Physicians|Internal Medicine</td><td>6.569819551000157E7</td></tr><tr><td>Allopathic & Osteopathic Physicians|Psychiatry & Neurology|Psychiatry</td><td>6.548150061000022E7</td></tr><tr><td>null</td><td>6.473382509000038E7</td></tr><tr><td>Allopathic & Osteopathic Physicians|Internal Medicine|Cardiovascular Disease</td><td>6.30571815700004E7</td></tr></tbody></table></div>"
      ]
     },
     "metadata": {
      "application/vnd.databricks.v1+output": {
       "addedWidgets": {},
       "aggData": [],
       "aggError": "",
       "aggOverflow": false,
       "aggSchema": [],
       "aggSeriesLimitReached": false,
       "aggType": "",
       "arguments": {},
       "columnCustomDisplayInfos": {},
       "data": [
        [
         "Allopathic & Osteopathic Physicians|Orthopaedic Surgery",
         3.7775549672999597E8
        ],
        [
         "Allopathic & Osteopathic Physicians|Psychiatry & Neurology|Neurology",
         8.680715037000045E7
        ],
        [
         "Allopathic & Osteopathic Physicians|Neurological Surgery",
         8.587046903000015E7
        ],
        [
         "Allopathic & Osteopathic Physicians|Dermatology",
         8.07658914400014E7
        ],
        [
         "Allopathic & Osteopathic Physicians|Orthopaedic Surgery|Adult Reconstructive Orthopaedic Surgery",
         7.277526618000011E7
        ],
        [
         "Allopathic & Osteopathic Physicians|Internal Medicine|Hematology & Oncology",
         6.576093498000091E7
        ],
        [
         "Allopathic & Osteopathic Physicians|Internal Medicine",
         6.569819551000157E7
        ],
        [
         "Allopathic & Osteopathic Physicians|Psychiatry & Neurology|Psychiatry",
         6.548150061000022E7
        ],
        [
         null,
         6.473382509000038E7
        ],
        [
         "Allopathic & Osteopathic Physicians|Internal Medicine|Cardiovascular Disease",
         6.30571815700004E7
        ]
       ],
       "datasetInfos": [],
       "dbfsResultPath": null,
       "isJsonSchema": true,
       "metadata": {},
       "overflow": false,
       "plotOptions": {
        "customPlotOptions": {},
        "displayType": "table",
        "pivotAggregation": null,
        "pivotColumns": null,
        "xColumns": null,
        "yColumns": null
       },
       "removedWidgets": [],
       "schema": [
        {
         "metadata": "{}",
         "name": "Covered_Recipient_Profile_Primary_Specialty",
         "type": "\"string\""
        },
        {
         "metadata": "{}",
         "name": "total_amount",
         "type": "\"double\""
        }
       ],
       "type": "table"
      }
     },
     "output_type": "display_data"
    }
   ],
   "source": [
    "\n",
    "%sql\n",
    "SELECT cr.Covered_Recipient_Profile_Primary_Specialty, \n",
    "       SUM(gp.Total_Amount_of_Payment_USDollars) AS total_amount\n",
    "FROM General_OpenPayments gp\n",
    "JOIN covered_recipients cr \n",
    "ON gp.Covered_Recipient_NPI = cr.Covered_Recipient_NPI\n",
    "GROUP BY cr.Covered_Recipient_Profile_Primary_Specialty\n",
    "ORDER BY total_amount DESC\n",
    "LIMIT 10;\n",
    "\n",
    "\n",
    "# Top 10 Physician Specialties by Total Amount"
   ]
  },
  {
   "cell_type": "code",
   "execution_count": 0,
   "metadata": {
    "application/vnd.databricks.v1+cell": {
     "cellMetadata": {
      "byteLimit": 2048000,
      "rowLimit": 10000
     },
     "inputWidgets": {},
     "nuid": "18758d52-e482-4920-b212-71c076277513",
     "showTitle": false,
     "tableResultSettingsMap": {},
     "title": ""
    }
   },
   "outputs": [
    {
     "output_type": "stream",
     "name": "stdout",
     "output_type": "stream",
     "text": [
      "+----------------------------+---------------------------+-------------------+\n|Covered_Recipient_First_Name|Covered_Recipient_Last_Name|total_amount       |\n+----------------------------+---------------------------+-------------------+\n|null                        |null                       |7.933900857900007E8|\n|STEPHEN                     |BURKHART                   |3.392202493E7      |\n|WILLIAM                     |BINDER                     |2.943437497E7      |\n|KEVIN                       |FOLEY                      |1.73059378E7       |\n|IVAN                        |OSORIO                     |1.606551551E7      |\n|GEORGE                      |MAXWELL                    |1.160032024E7      |\n|ROBERT                      |BOOTH                      |8459167.19         |\n|NEAL                        |ELATTRACHE                 |7810628.200000001  |\n|AARON                       |ROSENBERG                  |6883627.29         |\n|ROGER                       |JACKSON                    |6615711.26         |\n+----------------------------+---------------------------+-------------------+\nonly showing top 10 rows\n\n"
     ]
    }
   ],
   "source": [
    "\n",
    " #5.Top 10 Physicians by Total Amount\n",
    "df_payments.groupBy(\"Covered_Recipient_First_Name\", \"Covered_Recipient_Last_Name\") \\\n",
    "    .agg(sum(\"Total_Amount_of_Payment_USDollars\").alias(\"total_amount\")) \\\n",
    "    .orderBy(desc(\"total_amount\")) \\\n",
    "    .show(10, truncate=False)\n"
   ]
  }
 ],
 "metadata": {
  "application/vnd.databricks.v1+notebook": {
   "computePreferences": null,
   "dashboards": [],
   "environmentMetadata": {
    "base_environment": "",
    "client": "1"
   },
   "language": "python",
   "notebookMetadata": {
    "mostRecentlyExecutedCommandWithImplicitDF": {
     "commandId": 3945509365508660,
     "dataframes": [
      "_sqldf"
     ]
    },
    "pythonIndentUnit": 4
   },
   "notebookName": "WEEK-7 SPARK APPLICATION",
   "widgets": {}
  }
 },
 "nbformat": 4,
 "nbformat_minor": 0
}
