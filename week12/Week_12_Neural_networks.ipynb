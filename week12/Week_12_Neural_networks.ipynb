{
  "cells": [
    {
      "cell_type": "code",
      "source": [
        "\n",
        "#Importing required library\n",
        "#import pandas as pd and Reading a CSV file into a DataFrame\n",
        "\n",
        "import pandas as pd\n",
        "\n",
        "df_1k = pd.read_csv(\"/content/synthetic_diabetes_1000.csv\")\n",
        "df_10k = pd.read_csv(\"/content/synthetic_diabetes_10000.csv\")\n",
        "df_100k = pd.read_csv(\"/content/synthetic_diabetes_1e+05.csv\")\n"
      ],
      "metadata": {
        "id": "lSGJVhzjKUUZ"
      },
      "execution_count": 4,
      "outputs": []
    },
    {
      "cell_type": "code",
      "source": [
        "import pandas as pd\n",
        "df = pd.read_csv(\"/content/synthetic_diabetes_1000.csv\")\n",
        "print(df.columns)\n"
      ],
      "metadata": {
        "colab": {
          "base_uri": "https://localhost:8080/"
        },
        "id": "ZmTry4W6cyPq",
        "outputId": "19783443-9345-4e42-c76c-68857f677385"
      },
      "execution_count": 12,
      "outputs": [
        {
          "output_type": "stream",
          "name": "stdout",
          "text": [
            "Index(['pregnant', 'glucose', 'pressure', 'triceps', 'insulin', 'mass',\n",
            "       'pedigree', 'age', 'outcome'],\n",
            "      dtype='object')\n"
          ]
        }
      ]
    },
    {
      "cell_type": "code",
      "source": [
        "#  1000\n",
        "\n",
        "#  1 hidden layer 4 nodes"
      ],
      "metadata": {
        "id": "IGlwc8klenoL"
      },
      "execution_count": null,
      "outputs": []
    },
    {
      "cell_type": "code",
      "source": [
        "# Load dataset\n",
        "df = pd.read_csv(\"synthetic_diabetes_1000.csv\")\n",
        "X = df.drop(\"outcome\", axis=1)\n",
        "y = df[\"outcome\"]\n",
        "\n",
        "# Train/test split and scaling\n",
        "X_train, X_val, y_train, y_val = train_test_split(X, y, test_size=0.2, random_state=42)\n",
        "scaler = StandardScaler()\n",
        "X_train = scaler.fit_transform(X_train)\n",
        "X_val = scaler.transform(X_val)\n",
        "\n",
        "# Build model: 1 hidden layer with 4 nodes\n",
        "model = Sequential()\n",
        "model.add(Dense(4, input_dim=X.shape[1], activation='relu'))\n",
        "model.add(Dense(1, activation='sigmoid'))\n",
        "\n",
        "model.compile(optimizer='adam', loss='binary_crossentropy', metrics=['accuracy'])\n",
        "\n",
        "# Train model and track time\n",
        "start = time.time()\n",
        "history = model.fit(X_train, y_train, validation_data=(X_val, y_val), epochs=20, verbose=0)\n",
        "end = time.time()\n",
        "\n",
        "# Results\n",
        "training_error = 1 - history.history['accuracy'][-1]\n",
        "validation_error = 1 - history.history['val_accuracy'][-1]\n",
        "execution_time = round(end - start, 2)\n",
        "\n",
        "print(f\"Training Error: {training_error:.4f}\")\n",
        "print(f\"Validation Error: {validation_error:.4f}\")\n",
        "print(f\"Time of Execution: {execution_time} seconds\")"
      ],
      "metadata": {
        "colab": {
          "base_uri": "https://localhost:8080/"
        },
        "id": "qb1kvZw2dxHl",
        "outputId": "895c18cf-ed6c-42cf-b177-6a4a352750e4"
      },
      "execution_count": 13,
      "outputs": [
        {
          "output_type": "stream",
          "name": "stderr",
          "text": [
            "/usr/local/lib/python3.11/dist-packages/keras/src/layers/core/dense.py:87: UserWarning: Do not pass an `input_shape`/`input_dim` argument to a layer. When using Sequential models, prefer using an `Input(shape)` object as the first layer in the model instead.\n",
            "  super().__init__(activity_regularizer=activity_regularizer, **kwargs)\n"
          ]
        },
        {
          "output_type": "stream",
          "name": "stdout",
          "text": [
            "Training Error: 0.0875\n",
            "Validation Error: 0.0850\n",
            "Time of Execution: 4.51 seconds\n"
          ]
        }
      ]
    },
    {
      "cell_type": "code",
      "source": [
        "#10000\n",
        "\n",
        "#1 hidden layer 4 nodes"
      ],
      "metadata": {
        "id": "QhHvctqvek1y"
      },
      "execution_count": null,
      "outputs": []
    },
    {
      "cell_type": "code",
      "source": [
        "# Load dataset\n",
        "df = pd.read_csv(\"synthetic_diabetes_10000.csv\")\n",
        "X = df.drop(\"outcome\", axis=1)\n",
        "y = df[\"outcome\"]\n",
        "\n",
        "# Train/test split and scaling\n",
        "X_train, X_val, y_train, y_val = train_test_split(X, y, test_size=0.2, random_state=42)\n",
        "scaler = StandardScaler()\n",
        "X_train = scaler.fit_transform(X_train)\n",
        "X_val = scaler.transform(X_val)\n",
        "\n",
        "# Build model: 1 hidden layer with 4 nodes\n",
        "model = Sequential()\n",
        "model.add(Dense(4, input_shape=(X.shape[1],), activation='relu'))\n",
        "model.add(Dense(1, activation='sigmoid'))\n",
        "\n",
        "model.compile(optimizer='adam', loss='binary_crossentropy', metrics=['accuracy'])\n",
        "\n",
        "# Train model and track time\n",
        "start = time.time()\n",
        "history = model.fit(X_train, y_train, validation_data=(X_val, y_val), epochs=20, verbose=0)\n",
        "end = time.time()\n",
        "\n",
        "# Results\n",
        "training_error = 1 - history.history['accuracy'][-1]\n",
        "validation_error = 1 - history.history['val_accuracy'][-1]\n",
        "execution_time = round(end - start, 2)\n",
        "\n",
        "print(f\"Training Error: {training_error:.4f}\")\n",
        "print(f\"Validation Error: {validation_error:.4f}\")\n",
        "print(f\"Time of Execution: {execution_time} seconds\")"
      ],
      "metadata": {
        "colab": {
          "base_uri": "https://localhost:8080/"
        },
        "id": "P5cNILGIelMM",
        "outputId": "dd000253-b585-4ed7-bd8c-601c7aed7783"
      },
      "execution_count": 14,
      "outputs": [
        {
          "output_type": "stream",
          "name": "stderr",
          "text": [
            "/usr/local/lib/python3.11/dist-packages/keras/src/layers/core/dense.py:87: UserWarning: Do not pass an `input_shape`/`input_dim` argument to a layer. When using Sequential models, prefer using an `Input(shape)` object as the first layer in the model instead.\n",
            "  super().__init__(activity_regularizer=activity_regularizer, **kwargs)\n"
          ]
        },
        {
          "output_type": "stream",
          "name": "stdout",
          "text": [
            "Training Error: 0.0035\n",
            "Validation Error: 0.0060\n",
            "Time of Execution: 15.19 seconds\n"
          ]
        }
      ]
    },
    {
      "cell_type": "code",
      "source": [
        "#100000\n",
        "\n",
        "#1 hidden layer 4 nodes"
      ],
      "metadata": {
        "id": "WuDKWpfwe_nA"
      },
      "execution_count": 15,
      "outputs": []
    },
    {
      "cell_type": "code",
      "source": [
        "# Load dataset\n",
        "df = pd.read_csv(\"synthetic_diabetes_1e+05.csv\")\n",
        "X = df.drop(\"outcome\", axis=1)\n",
        "y = df[\"outcome\"]\n",
        "\n",
        "# Train/test split and scaling\n",
        "X_train, X_val, y_train, y_val = train_test_split(X, y, test_size=0.2, random_state=42)\n",
        "scaler = StandardScaler()\n",
        "X_train = scaler.fit_transform(X_train)\n",
        "X_val = scaler.transform(X_val)\n",
        "\n",
        "# Build model: 1 hidden layer with 4 nodes\n",
        "model = Sequential()\n",
        "model.add(Dense(4, input_shape=(X.shape[1],), activation='relu'))\n",
        "model.add(Dense(1, activation='sigmoid'))\n",
        "\n",
        "model.compile(optimizer='adam', loss='binary_crossentropy', metrics=['accuracy'])\n",
        "\n",
        "# Train model and track time\n",
        "start = time.time()\n",
        "history = model.fit(X_train, y_train, validation_data=(X_val, y_val), epochs=20, verbose=0)\n",
        "end = time.time()\n",
        "\n",
        "# Results\n",
        "training_error = 1 - history.history['accuracy'][-1]\n",
        "validation_error = 1 - history.history['val_accuracy'][-1]\n",
        "execution_time = round(end - start, 2)\n",
        "\n",
        "print(f\"Training Error: {training_error:.4f}\")\n",
        "print(f\"Validation Error: {validation_error:.4f}\")\n",
        "print(f\"Time of Execution: {execution_time} seconds\")"
      ],
      "metadata": {
        "colab": {
          "base_uri": "https://localhost:8080/"
        },
        "id": "IePZCwFhe_1Y",
        "outputId": "0084325e-f1f8-4cbb-c747-1f374cda0a3d"
      },
      "execution_count": 16,
      "outputs": [
        {
          "output_type": "stream",
          "name": "stderr",
          "text": [
            "/usr/local/lib/python3.11/dist-packages/keras/src/layers/core/dense.py:87: UserWarning: Do not pass an `input_shape`/`input_dim` argument to a layer. When using Sequential models, prefer using an `Input(shape)` object as the first layer in the model instead.\n",
            "  super().__init__(activity_regularizer=activity_regularizer, **kwargs)\n"
          ]
        },
        {
          "output_type": "stream",
          "name": "stdout",
          "text": [
            "Training Error: 0.0012\n",
            "Validation Error: 0.0013\n",
            "Time of Execution: 150.12 seconds\n"
          ]
        }
      ]
    },
    {
      "cell_type": "code",
      "source": [
        "#1000\t2 hidden layers, 4 nodes each"
      ],
      "metadata": {
        "id": "EZUJSDl4gARA"
      },
      "execution_count": 17,
      "outputs": []
    },
    {
      "cell_type": "code",
      "source": [
        "# Load dataset\n",
        "df = pd.read_csv(\"synthetic_diabetes_1000.csv\")\n",
        "X = df.drop(\"outcome\", axis=1)\n",
        "y = df[\"outcome\"]\n",
        "\n",
        "# Train/test split and scaling\n",
        "X_train, X_val, y_train, y_val = train_test_split(X, y, test_size=0.2, random_state=42)\n",
        "scaler = StandardScaler()\n",
        "X_train = scaler.fit_transform(X_train)\n",
        "X_val = scaler.transform(X_val)\n",
        "\n",
        "# Build model: 2 hidden layers, 4 nodes each\n",
        "model = Sequential()\n",
        "model.add(Dense(4, input_shape=(X.shape[1],), activation='relu'))\n",
        "model.add(Dense(4, activation='relu'))  # Second hidden layer\n",
        "model.add(Dense(1, activation='sigmoid'))\n",
        "\n",
        "model.compile(optimizer='adam', loss='binary_crossentropy', metrics=['accuracy'])\n",
        "\n",
        "# Train model and track time\n",
        "start = time.time()\n",
        "history = model.fit(X_train, y_train, validation_data=(X_val, y_val), epochs=20, verbose=0)\n",
        "end = time.time()\n",
        "\n",
        "# Results\n",
        "training_error = 1 - history.history['accuracy'][-1]\n",
        "validation_error = 1 - history.history['val_accuracy'][-1]\n",
        "execution_time = round(end - start, 2)\n",
        "\n",
        "print(f\"Training Error: {training_error:.4f}\")\n",
        "print(f\"Validation Error: {validation_error:.4f}\")\n",
        "print(f\"Time of Execution: {execution_time} seconds\")"
      ],
      "metadata": {
        "colab": {
          "base_uri": "https://localhost:8080/"
        },
        "id": "En3zG5LygCn4",
        "outputId": "610e2dc9-b321-430d-f03e-5f98989c5094"
      },
      "execution_count": 18,
      "outputs": [
        {
          "output_type": "stream",
          "name": "stderr",
          "text": [
            "/usr/local/lib/python3.11/dist-packages/keras/src/layers/core/dense.py:87: UserWarning: Do not pass an `input_shape`/`input_dim` argument to a layer. When using Sequential models, prefer using an `Input(shape)` object as the first layer in the model instead.\n",
            "  super().__init__(activity_regularizer=activity_regularizer, **kwargs)\n"
          ]
        },
        {
          "output_type": "stream",
          "name": "stdout",
          "text": [
            "Training Error: 0.1025\n",
            "Validation Error: 0.0700\n",
            "Time of Execution: 5.93 seconds\n"
          ]
        }
      ]
    },
    {
      "cell_type": "code",
      "source": [
        "#10000\t2 hidden layers, 4 nodes each"
      ],
      "metadata": {
        "id": "isJ3wZAQgT_o"
      },
      "execution_count": 19,
      "outputs": []
    },
    {
      "cell_type": "code",
      "source": [
        "# Load dataset\n",
        "df = pd.read_csv(\"synthetic_diabetes_10000.csv\")\n",
        "X = df.drop(\"outcome\", axis=1)\n",
        "y = df[\"outcome\"]\n",
        "\n",
        "# Train/test split and scaling\n",
        "X_train, X_val, y_train, y_val = train_test_split(X, y, test_size=0.2, random_state=42)\n",
        "scaler = StandardScaler()\n",
        "X_train = scaler.fit_transform(X_train)\n",
        "X_val = scaler.transform(X_val)\n",
        "\n",
        "# Build model: 2 hidden layers, 4 nodes each\n",
        "model = Sequential()\n",
        "model.add(Dense(4, input_shape=(X.shape[1],), activation='relu'))\n",
        "model.add(Dense(4, activation='relu'))  # Second hidden layer\n",
        "model.add(Dense(1, activation='sigmoid'))\n",
        "\n",
        "model.compile(optimizer='adam', loss='binary_crossentropy', metrics=['accuracy'])\n",
        "\n",
        "# Train model and track time\n",
        "start = time.time()\n",
        "history = model.fit(X_train, y_train, validation_data=(X_val, y_val), epochs=20, verbose=0)\n",
        "end = time.time()\n",
        "\n",
        "# Results\n",
        "training_error = 1 - history.history['accuracy'][-1]\n",
        "validation_error = 1 - history.history['val_accuracy'][-1]\n",
        "execution_time = round(end - start, 2)\n",
        "\n",
        "print(f\"Training Error: {training_error:.4f}\")\n",
        "print(f\"Validation Error: {validation_error:.4f}\")\n",
        "print(f\"Time of Execution: {execution_time} seconds\")"
      ],
      "metadata": {
        "colab": {
          "base_uri": "https://localhost:8080/"
        },
        "id": "3mw1wO0DgV65",
        "outputId": "71f82030-6d4f-4965-a14f-7911f5f30640"
      },
      "execution_count": 20,
      "outputs": [
        {
          "output_type": "stream",
          "name": "stderr",
          "text": [
            "/usr/local/lib/python3.11/dist-packages/keras/src/layers/core/dense.py:87: UserWarning: Do not pass an `input_shape`/`input_dim` argument to a layer. When using Sequential models, prefer using an `Input(shape)` object as the first layer in the model instead.\n",
            "  super().__init__(activity_regularizer=activity_regularizer, **kwargs)\n"
          ]
        },
        {
          "output_type": "stream",
          "name": "stdout",
          "text": [
            "Training Error: 0.0038\n",
            "Validation Error: 0.0070\n",
            "Time of Execution: 17.02 seconds\n"
          ]
        }
      ]
    },
    {
      "cell_type": "code",
      "source": [
        "#100000\t2 hidden layers, 4 nodes each"
      ],
      "metadata": {
        "id": "JG8aws9cgl6h"
      },
      "execution_count": 21,
      "outputs": []
    },
    {
      "cell_type": "code",
      "source": [
        "# Load dataset\n",
        "df = pd.read_csv(\"synthetic_diabetes_1e+05.csv\")\n",
        "X = df.drop(\"outcome\", axis=1)\n",
        "y = df[\"outcome\"]\n",
        "\n",
        "# Train/test split and scaling\n",
        "X_train, X_val, y_train, y_val = train_test_split(X, y, test_size=0.2, random_state=42)\n",
        "scaler = StandardScaler()\n",
        "X_train = scaler.fit_transform(X_train)\n",
        "X_val = scaler.transform(X_val)\n",
        "\n",
        "# Build model: 2 hidden layers, 4 nodes each\n",
        "model = Sequential()\n",
        "model.add(Dense(4, input_shape=(X.shape[1],), activation='relu'))\n",
        "model.add(Dense(4, activation='relu'))  # Second hidden layer\n",
        "model.add(Dense(1, activation='sigmoid'))\n",
        "\n",
        "model.compile(optimizer='adam', loss='binary_crossentropy', metrics=['accuracy'])\n",
        "\n",
        "# Train model and track time\n",
        "start = time.time()\n",
        "history = model.fit(X_train, y_train, validation_data=(X_val, y_val), epochs=20, verbose=0)\n",
        "end = time.time()\n",
        "\n",
        "# Results\n",
        "training_error = 1 - history.history['accuracy'][-1]\n",
        "validation_error = 1 - history.history['val_accuracy'][-1]\n",
        "execution_time = round(end - start, 2)\n",
        "\n",
        "print(f\"Training Error: {training_error:.4f}\")\n",
        "print(f\"Validation Error: {validation_error:.4f}\")\n",
        "print(f\"Time of Execution: {execution_time} seconds\")\n"
      ],
      "metadata": {
        "colab": {
          "base_uri": "https://localhost:8080/"
        },
        "id": "W_p6Bp3fg0Qg",
        "outputId": "59eef5f4-1adb-4af8-e565-fecfe8866df3"
      },
      "execution_count": 22,
      "outputs": [
        {
          "output_type": "stream",
          "name": "stderr",
          "text": [
            "/usr/local/lib/python3.11/dist-packages/keras/src/layers/core/dense.py:87: UserWarning: Do not pass an `input_shape`/`input_dim` argument to a layer. When using Sequential models, prefer using an `Input(shape)` object as the first layer in the model instead.\n",
            "  super().__init__(activity_regularizer=activity_regularizer, **kwargs)\n"
          ]
        },
        {
          "output_type": "stream",
          "name": "stdout",
          "text": [
            "Training Error: 0.0017\n",
            "Validation Error: 0.0017\n",
            "Time of Execution: 162.76 seconds\n"
          ]
        }
      ]
    },
    {
      "cell_type": "code",
      "source": [
        "# 2. Based on the results, which model do you consider as superior, among the deep learning models fit?\n",
        "\n"
      ],
      "metadata": {
        "id": "FV2AvDvgiitF"
      },
      "execution_count": 23,
      "outputs": []
    },
    {
      "cell_type": "markdown",
      "source": [
        " The evaluation process involved testing six model configurations against three dataset sizes (1,000;  10,000; and 100,000 rows) and two architectures (1 hidden layer vs.  2 hidden layers, each with 4 nodes).\n",
        "\n",
        "The results showed that the model with 1 hidden  layer and 4 nodes achieved the lowest training and validation errors (0.0012 and  0.0013 respectively) when trained on the 100,000-row dataset. This model trained faster  than the equivalent 2-layer model at the same data size which needed 162.76 seconds to  train compared to 150.12 seconds.\n",
        "\n",
        "The 2-hidden-layer configurations achieved comparable accuracy levels but  failed to deliver meaningful improvements in validation performance to warrant increased complexity and longer training times. The  2-layer model trained on 100,000 rows produced a validation error of 0.0017 and  needed more time to complete.\n",
        "\n",
        "The models demonstrated higher validation errors and unstable learning behavior and overfitting  at smaller data sizes (e.g., 1,000 rows) which shows that deep learning models  need larger datasets to perform well.\n",
        "\n",
        "The deep learning model that uses 1 hidden layer with 4  nodes and trains on 100,000 rows of data stands as the best option. The model achieves  the highest accuracy with the lowest validation error and shortest training time among the tested configurations."
      ],
      "metadata": {
        "id": "efolGYEcYlzg"
      }
    }
  ],
  "metadata": {
    "colab": {
      "provenance": []
    },
    "kernelspec": {
      "display_name": "Python 3",
      "name": "python3"
    }
  },
  "nbformat": 4,
  "nbformat_minor": 0
}